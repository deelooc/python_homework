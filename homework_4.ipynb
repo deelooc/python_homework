{
 "cells": [
  {
   "cell_type": "markdown",
   "metadata": {},
   "source": [
    "### Задание 1\n",
    "Напишите функцию date_range, которая возвращает список дней между датами start_date и end_date. Даты должны вводиться в формате YYYY-MM-DD."
   ]
  },
  {
   "cell_type": "markdown",
   "metadata": {},
   "source": [
    "#### Решение\n",
    "\n",
    "Функция date_range принимает на вход два значения дат start_date и end_date, первое значение это начало периода а вторая это конец периода. В теле функции мы задаем переменную start_date_dt которая возвращает дату начала периода, с помощью функцию strptime преобразовываем дату начала, точно также поступаем с переменной end_date_dt\n",
    "далее обьявляем переменную current_dt и присваеваем ей значение даты начала периода плюс один день (это будет первое значение, дальше с помощью оператора while задаем условие если current_dt меньше end_date_dt то выполняем следующее: выводим значение текущей даты и увеличиваем дату на один день"
   ]
  },
  {
   "cell_type": "code",
   "execution_count": 1,
   "metadata": {},
   "outputs": [],
   "source": [
    "from datetime import datetime\n",
    "from datetime import timedelta "
   ]
  },
  {
   "cell_type": "code",
   "execution_count": 2,
   "metadata": {},
   "outputs": [],
   "source": [
    "def date_range(start_date, end_date):   \n",
    "    \n",
    "    \"\"\"\n",
    "    Функция date_range принимает на вход дату начала (start_date) \n",
    "    и дату конца (end_date) временного диапазона и возвращает даты \n",
    "    в хронологическом порядке в диапазоне между датой начала и конца\n",
    "    \"\"\"\n",
    "    \n",
    "    start_date_dt = datetime.strptime(start_date, '%Y-%m-%d') \n",
    "    end_date_dt = datetime.strptime(end_date, '%Y-%m-%d')\n",
    "    current_dt = start_date_dt + timedelta(days=1)\n",
    "       \n",
    "    while current_dt < end_date_dt: \n",
    "        print(current_dt.strftime('%Y-%m-%d')) \n",
    "        current_dt += timedelta(days=1)"
   ]
  },
  {
   "cell_type": "code",
   "execution_count": 3,
   "metadata": {},
   "outputs": [
    {
     "name": "stdout",
     "output_type": "stream",
     "text": [
      "Введите дату начала отсчета дней (YYYY-MM-DD): 2018-01-01\n",
      "Введите дату конца отсчета (YYYY-MM-DD): 2018-01-05\n",
      "2018-01-02\n",
      "2018-01-03\n",
      "2018-01-04\n"
     ]
    }
   ],
   "source": [
    "date_range(input('Введите дату начала отсчета дней (YYYY-MM-DD): '),\\\n",
    "                              input('Введите дату конца отсчета (YYYY-MM-DD): '))"
   ]
  },
  {
   "cell_type": "markdown",
   "metadata": {},
   "source": [
    "### Задание 2\n",
    "Дополните функцию из первого задания проверкой на корректность дат. В случае неверного формата или если start_date > end_date должен возвращаться пустой список."
   ]
  },
  {
   "cell_type": "markdown",
   "metadata": {},
   "source": [
    "#### Решение\n",
    "\n",
    "с помощью конструкции try - except проверяем соотверствие формата если формат не соответствует то возвращаем 'ничего не получится, НЕ ТОТ ФОРМАТ'\n",
    "\n",
    "если все ок идем дальше, оператором while проверяем условие и если условие выполняется то печатаем значение текущей даты и прибовляем к этому значению дополнительный день, когда условие перестает выполняться мы вызодим из цикл, если на входе в цикл условие current_dt > end_date_dt то мы возвращаем сообщение об ошибке"
   ]
  },
  {
   "cell_type": "code",
   "execution_count": 4,
   "metadata": {},
   "outputs": [],
   "source": [
    "import traceback "
   ]
  },
  {
   "cell_type": "code",
   "execution_count": 5,
   "metadata": {},
   "outputs": [],
   "source": [
    "def date_range_next_level(start_date, end_date):\n",
    "    \n",
    "    \"\"\"\n",
    "    Функция date_range_next_level принимает на вход дату начала \n",
    "    start_date) и дату конца (end_date) временного диапазона, \n",
    "    выполняет проверку формата даты, а также проверяет выполнение \n",
    "    условия start_date < end_date_dt на взоде в цикл и в случае \n",
    "    не выполнения условия выдает сообщение об ошибке, если данные верны \n",
    "    и цикл отработал то функция возвращает даты в хронологическом порядке \n",
    "    в диапазоне между датой начала и конца \n",
    "    \"\"\"\n",
    "    \n",
    "    try:\n",
    "        #проверяем соответствие формата\n",
    "        start_date_dt = datetime.strptime(start_date, '%Y-%m-%d')\n",
    "        end_date_dt = datetime.strptime(end_date, '%Y-%m-%d')\n",
    "    except:\n",
    "            #если формат не подошел, возвращаем 'НЕ_ТОТ_ФОРМАТ'\n",
    "        return 'ничего не получится, НЕ ТОТ ФОРМАТ'\n",
    "       \n",
    "    current_dt = start_date_dt + timedelta(days=1)\n",
    "    \n",
    "    if current_dt > end_date_dt:\n",
    "        return f'(= Bad data' #если условие априори не выполнимо например  start_date_dt > end_date_dt\n",
    "   \n",
    "    while current_dt < end_date_dt: \n",
    "        print(current_dt.strftime('%Y-%m-%d')) \n",
    "        current_dt += timedelta(days=1)              "
   ]
  },
  {
   "cell_type": "code",
   "execution_count": 6,
   "metadata": {},
   "outputs": [
    {
     "name": "stdout",
     "output_type": "stream",
     "text": [
      "2019-01-05\n",
      "2019-01-06\n",
      "2019-01-07\n"
     ]
    }
   ],
   "source": [
    "date_range_next_level('2019-01-04', '2019-01-08')"
   ]
  },
  {
   "cell_type": "markdown",
   "metadata": {},
   "source": [
    "### Задание 3\n",
    "Дан поток дат в формате YYYY-MM-DD, в которых встречаются некорректные значения:\n",
    "stream = ['2018-04-02', '2018-02-29', '2018-19-02']\n",
    "Напишите функцию, которая проверяет эти даты на корректность. Т. е. для каждой даты возвращает True (дата корректна) или False (некорректная дата)."
   ]
  },
  {
   "cell_type": "markdown",
   "metadata": {},
   "source": [
    "#### Решение\n",
    "\n",
    "оператором for проходим по списку и с помощью try - except проверяем соответсвуют нашему условию данные или нет"
   ]
  },
  {
   "cell_type": "code",
   "execution_count": 7,
   "metadata": {},
   "outputs": [],
   "source": [
    "stream = ['2018-04-02', '2018-02-29', '2018-19-02', '2018-12-02a'] "
   ]
  },
  {
   "cell_type": "code",
   "execution_count": 8,
   "metadata": {},
   "outputs": [],
   "source": [
    "def check_this_date(stream):\n",
    "    \n",
    "    \"\"\"\n",
    "    Функция check_this_date проверяет даты на корректность (поток дат в формате YYYY-MM-DD)\n",
    "    если даты корректны то функция возвращает True если нет, то False\n",
    "    \"\"\"\n",
    "\n",
    "    for date in stream:\n",
    "        try:\n",
    "            datetime.strptime(date, '%Y-%m-%d')\n",
    "            print('True')\n",
    "        except ValueError:\n",
    "            print('False')"
   ]
  },
  {
   "cell_type": "code",
   "execution_count": 9,
   "metadata": {},
   "outputs": [
    {
     "name": "stdout",
     "output_type": "stream",
     "text": [
      "True\n",
      "False\n",
      "False\n",
      "False\n"
     ]
    }
   ],
   "source": [
    "check_this_date(stream)"
   ]
  },
  {
   "cell_type": "markdown",
   "metadata": {},
   "source": [
    "### Задание 4\n",
    "Напишите функцию, которая возвращает список дат с 1 по вчерашний день текущего месяца. Если дан 1 день месяца, то возвращается список дней прошлого месяца."
   ]
  },
  {
   "cell_type": "markdown",
   "metadata": {},
   "source": [
    "#### Решение\n",
    "\n",
    "для решения данной задачи используем оператор if для проверки условия и если условие реливантно то внутри используем оператор while, решение получилось весьма громоздким"
   ]
  },
  {
   "cell_type": "code",
   "execution_count": 11,
   "metadata": {},
   "outputs": [],
   "source": [
    "def return_days_before_yesterday(yesterday = None):\n",
    "    \n",
    "    \"\"\"\n",
    "    Функция return_days_before_yesterday возвращает список дат \n",
    "    с 1 по вчерашний день текущего месяца. Если дан 1 день месяца, \n",
    "    то возвращается список дней прошлого месяца.\n",
    "    \"\"\"\n",
    "       \n",
    "    date = datetime.now() #date возвращает текущую дату\n",
    "    first_month_day = date - timedelta(date.day - 1) #first_month_day возвращает дату первого дня месяца\n",
    "    \n",
    "    #previous_month_last_day возвращает дату последнего дня предидущего месяца\n",
    "    previous_month_last_day = date - timedelta(date.day) \n",
    "   \n",
    "    #previous_month_first_day возвращает дату последнего дня предидущего месяца\n",
    "    previous_month_first_day = (previous_month_last_day - timedelta(previous_month_last_day.day)) \\\n",
    "                                                                                    + timedelta(days = 1)\n",
    "    #если текущая дата не равна перому дню месяца тогда\n",
    "    if date.day != 1:\n",
    "        while first_month_day < date: #если первый день меньше текущей даты\n",
    "            print(first_month_day.strftime('%Y-%m-%d')) #печатаем дату\n",
    "            first_month_day += timedelta(days=1) #к дате прибовляем один день\n",
    "    \n",
    "    #если текущая дата равна перому дню месяца тогда\n",
    "    else:\n",
    "        #если последний день предидущего месяца больше или равен первому дню предидущего месяца\n",
    "        while previous_month_last_day >= previous_month_first_day: \n",
    "            print(previous_month_first_day.strftime('%Y-%m-%d')) #печатаем дату первого дня редидущего месяца\n",
    "            previous_month_first_day += timedelta(days=1) #к дате один день"
   ]
  },
  {
   "cell_type": "code",
   "execution_count": 12,
   "metadata": {},
   "outputs": [
    {
     "name": "stdout",
     "output_type": "stream",
     "text": [
      "2018-09-01\n",
      "2018-09-02\n",
      "2018-09-03\n",
      "2018-09-04\n",
      "2018-09-05\n",
      "2018-09-06\n",
      "2018-09-07\n",
      "2018-09-08\n",
      "2018-09-09\n",
      "2018-09-10\n",
      "2018-09-11\n",
      "2018-09-12\n",
      "2018-09-13\n",
      "2018-09-14\n"
     ]
    }
   ],
   "source": [
    "return_days_before_yesterday()"
   ]
  },
  {
   "cell_type": "markdown",
   "metadata": {},
   "source": [
    "### Задание 5\n",
    "Напишите функцию, которая возвращает точную дату в формате YYYY-MM-DD по фразе:\n",
    "1. 'today' - сегодняшнюю дату\n",
    "2. 'last monday' -  прошлый понедельник\n",
    "3. 'last day' - Последний день текущего месяца\n",
    "4. 'double last monday' - дата понедельника который был на прошлой неделе"
   ]
  },
  {
   "cell_type": "markdown",
   "metadata": {},
   "source": [
    "#### Решение\n",
    "\n",
    "! я решил немного усложнить и добавил еще условие при котором функция возвращает дату понедельника который был не прошлой неделе 'double last monday'\n",
    "\n",
    "создаем функцию return_accur_date аргумент функции flag будет иметь вид фразы: 'today', 'last day' или 'last monday' далее с помощью условного оператора if наченаем проерять условия и выполнять соответствующие операторы внутори условия"
   ]
  },
  {
   "cell_type": "code",
   "execution_count": 13,
   "metadata": {},
   "outputs": [],
   "source": [
    "from datetime import datetime\n",
    "from datetime import timedelta\n",
    "import calendar"
   ]
  },
  {
   "cell_type": "code",
   "execution_count": 14,
   "metadata": {},
   "outputs": [],
   "source": [
    "def return_accur_date(flag):\n",
    "    \n",
    "    \"\"\"\n",
    "    Функция return_accur_date которая возвращает точную дату в формате YYYY-MM-DD по фразе:\n",
    "    1. 'today' - сегодняшнюю дату\n",
    "    2. 'last monday' -  прошлый понедельник\n",
    "    3. 'last day' - Последний день текущего месяца \n",
    "    \"\"\"\n",
    "    \n",
    "    date = datetime.now() #оператор .new() возвращает текущую дата \n",
    "    \n",
    "    if flag == 'today': #если аргумент функции 'today' \n",
    "        return date.strftime('%Y-%m-%d') #возвращаем сегодняшнюю дату\n",
    "    \n",
    "    elif flag == 'last day': #если аргумент функции 'last day' \n",
    "        #с помощью оператора replace меняем текущюю дату на последнюю дату месяца и присваеваем  \n",
    "        last_day = date.replace(day = calendar.monthrange(date.year, date.month)[1]) \n",
    "        return last_day.strftime('%Y-%m-%d') #возвращаем значение даты последнего дня месяца\n",
    "   \n",
    "    elif flag == 'last monday':\n",
    "        last_monday = date - timedelta(date.weekday()) #просто вычетаем из текущей даты номер дня недели\n",
    "        return last_monday.strftime('%Y-%m-%d') #возвращаем дату прошлого понедельника\n",
    "    \n",
    "    #бонусный вариант рещения (возвращаем дату понедельника который был на прошлой неделе)\n",
    "    elif flag == 'double last monday':\n",
    "        last_monday = (date - timedelta(days = 7)) - timedelta(date.weekday())\n",
    "        return last_monday.strftime('%Y-%m-%d')"
   ]
  },
  {
   "cell_type": "code",
   "execution_count": 15,
   "metadata": {},
   "outputs": [
    {
     "data": {
      "text/plain": [
       "'2018-09-10'"
      ]
     },
     "execution_count": 15,
     "metadata": {},
     "output_type": "execute_result"
    }
   ],
   "source": [
    "return_accur_date('last monday')"
   ]
  },
  {
   "cell_type": "markdown",
   "metadata": {},
   "source": [
    "### Задание 6\n",
    "Напишите функцию, которая разбивает на недели с понедельника по воскресенье интервал дат между start_date и end_date. Считайте, что входные данные всегда корректны. В ответ должны входить только полные недели."
   ]
  },
  {
   "cell_type": "markdown",
   "metadata": {},
   "source": [
    "#### Решение \n",
    "\n",
    "задача разбита на две подзадачи:\n",
    "\n",
    "в первой подзадаче с помощью цикла while мы находим следующий за start_date понедельник, переменной count_days присваиваем значение даты воскресенья;\n",
    "\n",
    "во второй подзадаче, вторым оператором while проверяем условие что дата count_days меньше end_date (end_date_dt) и если условие верно то возвращаем дату начала и конца недели"
   ]
  },
  {
   "cell_type": "code",
   "execution_count": 16,
   "metadata": {},
   "outputs": [],
   "source": [
    "def month_devided_by_weeks(start_date, end_date):\n",
    "    \n",
    "    \"\"\"\n",
    "    Функция month_devided_by_weeks принимает на вход две даты start_date, end_date\n",
    "    разбивает на недели с понедельника по воскресенье интервал дат между start_date, end_date\n",
    "    и возвращает даты начала и конца каждой полной недели, входящей в интервал\n",
    "    \"\"\"\n",
    "    #задаем переменные\n",
    "    start_date_dt = datetime.strptime(start_date, '%Y-%m-%d') \n",
    "    end_date_dt = datetime.strptime(end_date, '%Y-%m-%d')\n",
    "    \n",
    "    #решаем первую подзадачу: определяем дату ближайшего понедельника в заданном диапазоне дат\n",
    "    while start_date_dt.weekday() != 0:\n",
    "        start_date_dt += timedelta(days=1)\n",
    "    \n",
    "    #count_days возвращает дату конца неделе которая начинается с первого понедельника в заданном диапазоне дат\n",
    "    count_days = start_date_dt + timedelta(days=6)\n",
    "    \n",
    "    #решаем вторую подзадачу: определяем целые недели в заданном диапазоне и выводим даты их начала и конца\n",
    "    while count_days < end_date_dt:\n",
    "        print(start_date_dt.strftime('%Y-%m-%d'), count_days.strftime('%Y-%m-%d'))\n",
    "        start_date_dt += timedelta(days=7)\n",
    "        count_days += timedelta(days=7)    "
   ]
  },
  {
   "cell_type": "code",
   "execution_count": 17,
   "metadata": {},
   "outputs": [
    {
     "name": "stdout",
     "output_type": "stream",
     "text": [
      "2018-08-13 2018-08-19\n",
      "2018-08-20 2018-08-26\n",
      "2018-08-27 2018-09-02\n",
      "2018-09-03 2018-09-09\n",
      "2018-09-10 2018-09-16\n"
     ]
    }
   ],
   "source": [
    "month_devided_by_weeks('2018-08-07', '2018-09-17')"
   ]
  }
 ],
 "metadata": {
  "kernelspec": {
   "display_name": "Python 3",
   "language": "python",
   "name": "python3"
  },
  "language_info": {
   "codemirror_mode": {
    "name": "ipython",
    "version": 3
   },
   "file_extension": ".py",
   "mimetype": "text/x-python",
   "name": "python",
   "nbconvert_exporter": "python",
   "pygments_lexer": "ipython3",
   "version": "3.6.4"
  }
 },
 "nbformat": 4,
 "nbformat_minor": 2
}
