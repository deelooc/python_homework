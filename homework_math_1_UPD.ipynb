{
 "cells": [
  {
   "cell_type": "code",
   "execution_count": 1,
   "metadata": {},
   "outputs": [],
   "source": [
    "import numpy as np\n",
    "from numpy.lib import stride_tricks\n",
    "from scipy import optimize\n",
    "from scipy.optimize import golden, rosen_der\n"
   ]
  },
  {
   "cell_type": "markdown",
   "metadata": {},
   "source": [
    "#### Задание\n",
    "Найти лучший алгоритм для решения следующей задачи: min (x1x4(x1+x2+x3)+x3).\n",
    "\n",
    "Условия:\n",
    "\n",
    "x1x2x3x4≥30\n",
    "\n",
    "x1^2+x2^2+x3^2+x4^2=60\n",
    "\n",
    "2≤x1,x2,x3,x4≤6\n",
    "\n",
    "Начальное приближение: x=(1,5,5,1)\n"
   ]
  },
  {
   "cell_type": "code",
   "execution_count": 2,
   "metadata": {},
   "outputs": [],
   "source": [
    "def objective(x):\n",
    "    \"\"\"\n",
    "    функция objective возвращает (x1x4(x1+x2+x3)+x3)\n",
    "    \"\"\"\n",
    "    #задаем переменные\n",
    "    x1 = x[0]\n",
    "    x2 = x[1]\n",
    "    x3 = x[2]\n",
    "    x4 = x[3]\n",
    "    #возвращаем заданное выражение\n",
    "    return x1 * x4 * (x1 + x2 + x3) + x3 \n",
    "    "
   ]
  },
  {
   "cell_type": "code",
   "execution_count": 9,
   "metadata": {},
   "outputs": [],
   "source": [
    "def constraint_1(x):\n",
    "    \"\"\"\n",
    "    функция constraint_1 возвращает следующие\n",
    "    ограничения x1x2x3x4≥30\n",
    "    \"\"\"\n",
    "    return x[0]*x[1]*x[2]*x[3] - 30.0\n"
   ]
  },
  {
   "cell_type": "code",
   "execution_count": 3,
   "metadata": {},
   "outputs": [],
   "source": [
    "def constraint_2(x):\n",
    "    \"\"\"\n",
    "    функция constraint_2 возвращает следующие\n",
    "    ограничения x1^2+x2^2+x3^2+x4^2=60\n",
    "    \"\"\"\n",
    "    sum_sqr = 60\n",
    "    \n",
    "    for i in range(4):\n",
    "        sum_sqr = sum_sqr - x[i]**2\n",
    "    return sum_sqr\n",
    "\n"
   ]
  },
  {
   "cell_type": "code",
   "execution_count": 7,
   "metadata": {},
   "outputs": [],
   "source": [
    "# начальные условия\n",
    "x0 = [1,5,5,1] "
   ]
  },
  {
   "cell_type": "code",
   "execution_count": 8,
   "metadata": {},
   "outputs": [
    {
     "name": "stdout",
     "output_type": "stream",
     "text": [
      "16\n"
     ]
    }
   ],
   "source": [
    "print(objective(x0))"
   ]
  },
  {
   "cell_type": "code",
   "execution_count": 11,
   "metadata": {},
   "outputs": [],
   "source": [
    "#задаем граничные условия\n",
    "b = (2.0, 6.0)\n",
    "bnds = (b,b,b,b)\n",
    "\n",
    "con_1 = {'type': 'ineq', 'fun': constraint_1}\n",
    "con_2 = {'type': 'eq', 'fun': constraint_2}\n",
    "\n",
    "cons = [con_1, con_2]"
   ]
  },
  {
   "cell_type": "code",
   "execution_count": 12,
   "metadata": {},
   "outputs": [],
   "source": [
    "res_SLSQP = optimize.minimize(objective, x0, method= 'SLSQP', bounds= bnds, constraints= cons)"
   ]
  },
  {
   "cell_type": "code",
   "execution_count": 15,
   "metadata": {},
   "outputs": [
    {
     "name": "stdout",
     "output_type": "stream",
     "text": [
      "     fun: 52.00000009676279\n",
      "     jac: array([28.,  4.,  5., 24.])\n",
      " message: 'Optimization terminated successfully.'\n",
      "    nfev: 30\n",
      "     nit: 5\n",
      "    njev: 5\n",
      "  status: 0\n",
      " success: True\n",
      "       x: array([2.        , 6.        , 4.00000002, 2.        ])\n"
     ]
    }
   ],
   "source": [
    "print(res_SLSQP)"
   ]
  },
  {
   "cell_type": "code",
   "execution_count": 14,
   "metadata": {},
   "outputs": [
    {
     "data": {
      "text/plain": [
       "array([2.        , 6.        , 4.00000002, 2.        ])"
      ]
     },
     "execution_count": 14,
     "metadata": {},
     "output_type": "execute_result"
    }
   ],
   "source": [
    "x_min_SLSQP = res_SLSQP.x\n",
    "x_min_SLSQP"
   ]
  },
  {
   "cell_type": "markdown",
   "metadata": {},
   "source": [
    "#### Доп решение (вне задания)\n",
    "\n",
    "Найти лучший алгоритм для решения следующей задачи: min (x^3 - 3x)\n",
    "\n",
    "Для нахождения минимума применил несколько алгоритмов оптимизации:\n",
    "- Nelder-Mead\n",
    "- CG\n",
    "- Powell\n"
   ]
  },
  {
   "cell_type": "code",
   "execution_count": 43,
   "metadata": {},
   "outputs": [],
   "source": [
    "def objective_1(x):\n",
    "    return x**3 - 3*x"
   ]
  },
  {
   "cell_type": "code",
   "execution_count": 45,
   "metadata": {},
   "outputs": [],
   "source": [
    "x0 = [0]"
   ]
  },
  {
   "cell_type": "code",
   "execution_count": 44,
   "metadata": {},
   "outputs": [
    {
     "name": "stdout",
     "output_type": "stream",
     "text": [
      " final_simplex: (array([[1.       ],\n",
      "       [0.9999375]]), array([-2.        , -1.99999999]))\n",
      "           fun: -2.0\n",
      "       message: 'Optimization terminated successfully.'\n",
      "          nfev: 50\n",
      "           nit: 25\n",
      "        status: 0\n",
      "       success: True\n",
      "             x: array([1.])\n"
     ]
    }
   ],
   "source": [
    "res_Nelder_Mead = optimize.minimize(objective_1, x0, method= 'Nelder-Mead')\n",
    "print(res_Nelder_Mead)"
   ]
  },
  {
   "cell_type": "code",
   "execution_count": 46,
   "metadata": {},
   "outputs": [
    {
     "name": "stdout",
     "output_type": "stream",
     "text": [
      "     fun: -2.0\n",
      "     jac: array([2.98023224e-08])\n",
      " message: 'Optimization terminated successfully.'\n",
      "    nfev: 24\n",
      "     nit: 3\n",
      "    njev: 8\n",
      "  status: 0\n",
      " success: True\n",
      "       x: array([1.])\n"
     ]
    }
   ],
   "source": [
    "res_CG = optimize.minimize(objective_1, x0, method= 'CG')\n",
    "print(res_CG)"
   ]
  },
  {
   "cell_type": "code",
   "execution_count": 47,
   "metadata": {},
   "outputs": [
    {
     "name": "stdout",
     "output_type": "stream",
     "text": [
      "   direc: array([[1.]])\n",
      "     fun: array(-2.)\n",
      " message: 'Optimization terminated successfully.'\n",
      "    nfev: 34\n",
      "     nit: 2\n",
      "  status: 0\n",
      " success: True\n",
      "       x: array(1.)\n"
     ]
    }
   ],
   "source": [
    "res_Powell = optimize.minimize(objective_1, x0, method= 'Powell')\n",
    "print(res_Powell)"
   ]
  }
 ],
 "metadata": {
  "kernelspec": {
   "display_name": "Python 3",
   "language": "python",
   "name": "python3"
  },
  "language_info": {
   "codemirror_mode": {
    "name": "ipython",
    "version": 3
   },
   "file_extension": ".py",
   "mimetype": "text/x-python",
   "name": "python",
   "nbconvert_exporter": "python",
   "pygments_lexer": "ipython3",
   "version": "3.6.4"
  }
 },
 "nbformat": 4,
 "nbformat_minor": 2
}
