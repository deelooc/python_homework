{
 "cells": [
  {
   "cell_type": "markdown",
   "metadata": {},
   "source": [
    "### Задание 1\n",
    "\n",
    "Дан список с визитами по городам и странам. Напишите код, который возвращает отфильтрованный список geo_logs, содержащий только визиты из России. Считайте, что список geo_logs легко помещается в оперативной памяти.\n",
    "\n",
    "geo_logs = [\n",
    "['visit1': ['Москва', 'Россия']],\n",
    "['visit2': ['Дели', 'Индия']],\n",
    "['visit3': ['Владимир', 'Россия']],\n",
    "['visit4': ['Лиссабон', 'Португалия']],\n",
    "['visit5': ['Париж', 'Франция']],\n",
    "['visit6': ['Лиссабон', 'Португалия']],\n",
    "['visit7': ['Тула', 'Россия']],\n",
    "['visit8': ['Тула', 'Россия']],\n",
    "['visit9': ['Курск', 'Россия']],\n",
    "['visit10': ['Архангельск', 'Россия']],\n",
    "]"
   ]
  },
  {
   "cell_type": "code",
   "execution_count": 1,
   "metadata": {},
   "outputs": [],
   "source": [
    "geo_logs = [\n",
    "            ['visit1', ['Москва', 'Россия']], \n",
    "            ['visit2', ['Дели', 'Индия']], \n",
    "            ['visit3', ['Владимир', 'Россия']], \n",
    "            ['visit4', ['Лиссабон', 'Португалия']], \n",
    "            ['visit5', ['Париж', 'Франция']], \n",
    "            ['visit6', ['Лиссабон', 'Португалия']], \n",
    "            ['visit7', ['Тула', 'Россия']],\n",
    "            ['visit8', ['Тула', 'Россия']], \n",
    "            ['visit9', ['Курск', 'Россия']],\n",
    "            ['visit10', ['Архангельск', 'Россия']], \n",
    "]"
   ]
  },
  {
   "cell_type": "markdown",
   "metadata": {},
   "source": [
    "Я сделал две реализации данного задания, вариант 1 классическим перебором, а вариант 2 с помощью list comprehension"
   ]
  },
  {
   "cell_type": "markdown",
   "metadata": {},
   "source": [
    "#### Вариант 1 \n",
    "\n",
    "в этом варианте я использую перебор по списку и вложенный перебор на каждой итерации для того чтобы опуститься во вложенный список, на мой вкус такой подход очень легко читаем и понятен"
   ]
  },
  {
   "cell_type": "code",
   "execution_count": 2,
   "metadata": {},
   "outputs": [
    {
     "name": "stdout",
     "output_type": "stream",
     "text": [
      "['visit1', ['Москва', 'Россия']]\n",
      "['visit3', ['Владимир', 'Россия']]\n",
      "['visit7', ['Тула', 'Россия']]\n",
      "['visit8', ['Тула', 'Россия']]\n",
      "['visit9', ['Курск', 'Россия']]\n",
      "['visit10', ['Архангельск', 'Россия']]\n"
     ]
    }
   ],
   "source": [
    "\n",
    "for x in geo_logs: #проходим по всем спискам \n",
    "    for x1 in x: #на каждой итерации в списке мы спускаемся на уровень ниже во вложенный спиок\n",
    "        if 'Россия' in x1: #задаем условие внутри вложенного списка (проверяем есть ли внутри нужные нам параметры)\n",
    "            print(x) # если условие выполняется выводим данные\n",
    "          "
   ]
  },
  {
   "cell_type": "markdown",
   "metadata": {},
   "source": [
    "#### Вариант 2  (основное решение)\n",
    "\n",
    "логика решения та же, но только с помощью list comprehension "
   ]
  },
  {
   "cell_type": "code",
   "execution_count": 3,
   "metadata": {},
   "outputs": [
    {
     "name": "stdout",
     "output_type": "stream",
     "text": [
      "CPU times: user 14 µs, sys: 1 µs, total: 15 µs\n",
      "Wall time: 21 µs\n"
     ]
    }
   ],
   "source": [
    "%%time\n",
    "\n",
    "geo_logs_rus = [x for x in geo_logs for x1 in x if 'Россия' in x1]\n",
    "geo_logs_rus"
   ]
  },
  {
   "cell_type": "markdown",
   "metadata": {},
   "source": [
    "### Задание 2\n",
    "\n",
    "Выведите на экран все уникальные гео-ID из значений словаря ids. Т. е. список вида [213, 15, 54, 119, 98, 35]\n",
    "ids = {'user1': [213, 213, 213, 15, 213], 'user2': [54, 54, 119, 119, 119], 'user3': [213, 98, 98, 35]}"
   ]
  },
  {
   "cell_type": "code",
   "execution_count": 4,
   "metadata": {},
   "outputs": [],
   "source": [
    "ids = {'user1': [213, 213, 213, 15, 213], 'user2': [54, 54, 119, 119, 119], 'user3': [213, 98, 98, 35]}"
   ]
  },
  {
   "cell_type": "markdown",
   "metadata": {},
   "source": [
    "преобразуем словарь в один общий список, данную операцию мы выполним с помощью операторов values() и sum()\n",
    "\n",
    "! на реальных данных так делать наверное не стоит "
   ]
  },
  {
   "cell_type": "code",
   "execution_count": 5,
   "metadata": {},
   "outputs": [],
   "source": [
    "new_list = sum(ids.values(),[])"
   ]
  },
  {
   "cell_type": "markdown",
   "metadata": {},
   "source": [
    "####  Вариант 0 (вне зачета)\n",
    "зная что множество возвращает только уникальные элементы можно перебором пройти по списку и каждый элемент записать в переременну uniq_num как результат мы получим множество уникальных значений из списка, но этот вариант мало того что громоздкий и он еще и сложный по времени"
   ]
  },
  {
   "cell_type": "code",
   "execution_count": 6,
   "metadata": {},
   "outputs": [
    {
     "name": "stdout",
     "output_type": "stream",
     "text": [
      "[98, 35, 15, 213, 54, 119]\n",
      "CPU times: user 424 µs, sys: 420 µs, total: 844 µs\n",
      "Wall time: 551 µs\n"
     ]
    }
   ],
   "source": [
    "%%time\n",
    "uniq_num = set()\n",
    "for x in new_list:\n",
    "    uniq_num.add(x)\n",
    "print(list(uniq_num))"
   ]
  },
  {
   "cell_type": "markdown",
   "metadata": {},
   "source": [
    "я попробовал еще два варианта решения с помощью множества (вариант 1) и списка (вариант 2), какой лучше я так и не понял, по времени выполнения оба варианта очень близки, а алгоритмы одинаковые\n",
    "\n",
    "##### Вариант 1 \n",
    "создадим пременную used тип данной переменной будет множество set() в нее мы будем сохранють уникальные значения\n",
    "из нашего списка (в прошлом словаря ids) "
   ]
  },
  {
   "cell_type": "code",
   "execution_count": 7,
   "metadata": {},
   "outputs": [
    {
     "name": "stdout",
     "output_type": "stream",
     "text": [
      "CPU times: user 10 µs, sys: 1 µs, total: 11 µs\n",
      "Wall time: 14.1 µs\n"
     ]
    }
   ],
   "source": [
    "%%time\n",
    "unique_num = set() \n",
    "unique = [x for x in new_list if x not in unique_num and (unique_num.add(x) or True)]"
   ]
  },
  {
   "cell_type": "code",
   "execution_count": 8,
   "metadata": {},
   "outputs": [
    {
     "data": {
      "text/plain": [
       "[213, 15, 54, 119, 98, 35]"
      ]
     },
     "execution_count": 8,
     "metadata": {},
     "output_type": "execute_result"
    }
   ],
   "source": [
    "unique"
   ]
  },
  {
   "cell_type": "markdown",
   "metadata": {},
   "source": [
    "##### Вариант 2\n",
    "создадим список unique в нее мы будем сохранють уникальные значения из нашего списка (в прошлом словаря ids)"
   ]
  },
  {
   "cell_type": "code",
   "execution_count": 9,
   "metadata": {},
   "outputs": [
    {
     "name": "stdout",
     "output_type": "stream",
     "text": [
      "CPU times: user 12 µs, sys: 0 ns, total: 12 µs\n",
      "Wall time: 18.8 µs\n"
     ]
    }
   ],
   "source": [
    "%%time\n",
    "unique = []\n",
    "unique_list = [x for x in new_list if x not in unique and (unique.append(x) or True)]"
   ]
  },
  {
   "cell_type": "code",
   "execution_count": 10,
   "metadata": {},
   "outputs": [
    {
     "data": {
      "text/plain": [
       "[213, 15, 54, 119, 98, 35]"
      ]
     },
     "execution_count": 10,
     "metadata": {},
     "output_type": "execute_result"
    }
   ],
   "source": [
    "unique_list"
   ]
  },
  {
   "cell_type": "markdown",
   "metadata": {},
   "source": [
    "### Задание 3\n",
    "\n",
    "Список поисковых запросов. Получить распределение количества слов в них. Т. е. поисковых запросов из одного слова 5%, из двух - 7%, из трех - 3% итд.\n",
    "queries = [\n",
    "'смотреть сериалы онлайн',\n",
    "'новости спорта',\n",
    "'афиша кино',\n",
    "'курс доллара',\n",
    "'сериалы этим летом',\n",
    "'курс по питону',\n",
    "'сериалы про спорт',\n",
    "]"
   ]
  },
  {
   "cell_type": "markdown",
   "metadata": {},
   "source": [
    "#### Решение\n",
    "\n",
    "у меня получилось достаточно тривиальное решение, как решить только с помощью list comprehension я не смог придумать, как итог достаточно громоздкикй код и тонна времени на выполнение"
   ]
  },
  {
   "cell_type": "code",
   "execution_count": 11,
   "metadata": {},
   "outputs": [],
   "source": [
    "queries = [ 'смотреть сериалы онлайн', 'новости спорта', 'афиша кино', 'курс доллара', 'сериалы этим летом', 'курс по питону', 'сериалы про спорт', ]"
   ]
  },
  {
   "cell_type": "code",
   "execution_count": 12,
   "metadata": {},
   "outputs": [
    {
     "name": "stdout",
     "output_type": "stream",
     "text": [
      "Количество слов в запросе 3 или 16.7 % от общего количества слов всех во всех запросах\n",
      "Количество слов в запросе 2 или 11.1 % от общего количества слов всех во всех запросах\n",
      "Количество слов в запросе 2 или 11.1 % от общего количества слов всех во всех запросах\n",
      "Количество слов в запросе 2 или 11.1 % от общего количества слов всех во всех запросах\n",
      "Количество слов в запросе 3 или 16.7 % от общего количества слов всех во всех запросах\n",
      "Количество слов в запросе 3 или 16.7 % от общего количества слов всех во всех запросах\n",
      "Количество слов в запросе 3 или 16.7 % от общего количества слов всех во всех запросах\n",
      "CPU times: user 325 µs, sys: 124 µs, total: 449 µs\n",
      "Wall time: 337 µs\n"
     ]
    }
   ],
   "source": [
    "%%time\n",
    "queries_length = [len(x.split()) for x in queries] #смотрим сколько слов в каждом запросе\n",
    "\n",
    "for x in queries_length: #перебираем все значения списка \n",
    "    f = x/sum(queries_length)*100 #для каждого значения выполняем данное выражение\n",
    "    print(f'Количество слов в запросе {x} или {f:.1f} % от общего количества слов всех во всех запросах')"
   ]
  },
  {
   "cell_type": "markdown",
   "metadata": {},
   "source": [
    "### Задание 4\n",
    "Дана статистика рекламных каналов по объемам продаж. Напишите скрипт, который возвращает название канала с максимальным объемом.\n",
    "Т. е. в данном примере скрипт должен возвращать 'yandex'.\n",
    "stats = {'facebook': 55, 'yandex': 120, 'vk': 115, 'google': 99, 'email': 42, 'ok': 98}\n",
    "\n"
   ]
  },
  {
   "cell_type": "markdown",
   "metadata": {},
   "source": [
    "#### Решение\n",
    "\n",
    "для реализации данного задания я нашел три варианта. В варианте 1 с перебором и проверкой условия, вариант 2 тоже но с помощью list comprehension и вариант 3 с помощью lambda функции. На мой взгляд лучше всего второй вариант, он быстрее остальных и код читаемый и понятный. "
   ]
  },
  {
   "cell_type": "code",
   "execution_count": 13,
   "metadata": {},
   "outputs": [],
   "source": [
    "stats = {'facebook': 55, 'yandex': 120, 'vk': 115, 'google': 99, 'email': 42, 'ok': 98}"
   ]
  },
  {
   "cell_type": "markdown",
   "metadata": {},
   "source": [
    "#### Вариант 1\n",
    "\n",
    "с помощью цикла for перебераю элементы словаря и на каждой итерации проверяю условие, все достаточно просто но требует много времени на выполнение данного алгоритма в сравнении с остальными двумя вариантами"
   ]
  },
  {
   "cell_type": "code",
   "execution_count": 14,
   "metadata": {},
   "outputs": [
    {
     "name": "stdout",
     "output_type": "stream",
     "text": [
      "yandex\n",
      "CPU times: user 163 µs, sys: 56 µs, total: 219 µs\n",
      "Wall time: 169 µs\n"
     ]
    }
   ],
   "source": [
    "%%time\n",
    "for i in stats:\n",
    "    if stats[i] == max(stats.values()):\n",
    "        print (i) #print (i, stats[i])"
   ]
  },
  {
   "cell_type": "markdown",
   "metadata": {},
   "source": [
    "такая же реализация только в функциональном стиле"
   ]
  },
  {
   "cell_type": "code",
   "execution_count": 15,
   "metadata": {},
   "outputs": [],
   "source": [
    "def find_max(a):\n",
    "    for i in a:\n",
    "        if a[i] == max(a.values()):\n",
    "            print (i)"
   ]
  },
  {
   "cell_type": "code",
   "execution_count": 16,
   "metadata": {},
   "outputs": [
    {
     "name": "stdout",
     "output_type": "stream",
     "text": [
      "yandex\n",
      "CPU times: user 202 µs, sys: 72 µs, total: 274 µs\n",
      "Wall time: 224 µs\n"
     ]
    }
   ],
   "source": [
    "%%time\n",
    "find_max(stats)"
   ]
  },
  {
   "cell_type": "markdown",
   "metadata": {},
   "source": [
    "#### Вариант 2\n",
    "\n",
    "логика алгоритма аналогична варианту 1 но реализованна с помощью list comprehension, мне такое решение очень нравиться, все читаемо и реализуется очень быстро"
   ]
  },
  {
   "cell_type": "code",
   "execution_count": 17,
   "metadata": {},
   "outputs": [
    {
     "name": "stdout",
     "output_type": "stream",
     "text": [
      "CPU times: user 11 µs, sys: 1 µs, total: 12 µs\n",
      "Wall time: 16.2 µs\n"
     ]
    },
    {
     "data": {
      "text/plain": [
       "['yandex']"
      ]
     },
     "execution_count": 17,
     "metadata": {},
     "output_type": "execute_result"
    }
   ],
   "source": [
    "%%time\n",
    "[i for i in stats if stats[i] == max(stats.values())]"
   ]
  },
  {
   "cell_type": "markdown",
   "metadata": {},
   "source": [
    "#### Вариант 3 (это решение я нагуглил, думал поможет понять lambda)\n",
    "\n",
    "попробовал с помощью lambda функции, в итоге результат получился но я не очень понимаю зачем нужна анонимна функция когда можно испльзовать обычную. Я гуглил документацию на lambda но все равно эта функция для меня загадка"
   ]
  },
  {
   "cell_type": "code",
   "execution_count": 18,
   "metadata": {},
   "outputs": [
    {
     "data": {
      "text/plain": [
       "{('yandex', 120)}"
      ]
     },
     "execution_count": 18,
     "metadata": {},
     "output_type": "execute_result"
    }
   ],
   "source": [
    "{x for x in filter(lambda x: stats[x[0]] == max(stats.values()), stats.items())}"
   ]
  },
  {
   "cell_type": "code",
   "execution_count": null,
   "metadata": {},
   "outputs": [],
   "source": []
  },
  {
   "cell_type": "markdown",
   "metadata": {},
   "source": [
    "### Задание 5\n",
    "Дан поток логов по количеству просмотренных страниц для каждого пользователя. Список отсортирован по ID пользователя. Вам необходимо написать алгоритм, который считает среднее значение просмотров на пользователя. Т. е. надо посчитать отношение суммы всех просмотров к количеству уникальных пользователей. Учтите, что весь список stream не помещается в оперативную память, т. е. его нужно обрабатывать поэлементно в цикле.\n",
    "\n",
    "stream = [\n",
    "'2018-01-01,user1,3',\n",
    "'2018-01-07,user1,4',\n",
    "'2018-03-29,user1,1',\n",
    "'2018-04-04,user1,13',\n",
    "'2018-01-05,user2,7',\n",
    "'2018-06-14,user3,4',\n",
    "'2018-07-02,user3,10',\n",
    "'2018-03-21,user4,19',\n",
    "'2018-03-22,user4,4',\n",
    "'2018-04-22,user4,8',\n",
    "'2018-05-03,user4,9',\n",
    "'2018-05-11,user4,11',\n",
    "]"
   ]
  },
  {
   "cell_type": "code",
   "execution_count": 19,
   "metadata": {},
   "outputs": [],
   "source": [
    "stream = [ \n",
    "    '2018-01-01,user1,3',\n",
    "    '2018-01-07,user1,4', \n",
    "    '2018-03-29,user1,1', \n",
    "    '2018-04-04,user1,13', \n",
    "    '2018-01-05,user2,7', \n",
    "    '2018-06-14,user3,4', \n",
    "    '2018-07-02,user3,10', \n",
    "    '2018-03-21,user4,19', \n",
    "    '2018-03-22,user4,4', \n",
    "    '2018-04-22,user4,8', \n",
    "    '2018-05-03,user4,9', \n",
    "    '2018-05-11,user4,11', ]"
   ]
  },
  {
   "cell_type": "code",
   "execution_count": 20,
   "metadata": {},
   "outputs": [],
   "source": [
    "#фактически без вашей помощи я сам не решил это задание (только немного дописал в конце)\n",
    "\n",
    "Started = True \n",
    "pageviews = 0\n",
    "pageviewer =1 \n",
    "\n",
    "\n",
    "for line in stream:\n",
    "    line = line.strip().split(',')\n",
    "    current_user = line[1] \n",
    "    \n",
    "    pageviews = pageviews + int(line[2])\n",
    "    \n",
    "    if Started: \n",
    "        previous_user = current_user \n",
    "        Started = False\n",
    "       \n",
    "    else:\n",
    "        if previous_user == current_user:\n",
    "            continue\n",
    "        \n",
    "        else:\n",
    "            pageviewer+= 1\n",
    "            previous_user = current_user "
   ]
  },
  {
   "cell_type": "code",
   "execution_count": 21,
   "metadata": {},
   "outputs": [
    {
     "name": "stdout",
     "output_type": "stream",
     "text": [
      " Среднее кол-во просмотров на одного уникального пользователя состовляет 23.2 страницы\n"
     ]
    }
   ],
   "source": [
    "print(f' Среднее кол-во просмотров на одного уникального пользователя состовляет \\\n",
    "{pageviews/pageviewer:.1f} страницы')"
   ]
  },
  {
   "cell_type": "markdown",
   "metadata": {},
   "source": [
    "### Задание 6\n",
    "Дана статистика рекламных кампаний по дням. Напишите алгоритм, который по паре дата-кампания ищет значение численного столбца. Т. е. для даты '2018-01-01' и 'google' нужно получить число 25. Считайте, что все комбинации дата-кампания уникальны, а список stats легко помещается в оперативной памяти.\n",
    "\n",
    "stats = [\n",
    "['2018-01-01', 'google', 25],\n",
    "['2018-01-01', 'yandex', 65],\n",
    "['2018-01-01', 'market', 89],\n",
    "['2018-01-02', 'google', 574],\n",
    "['2018-01-02', 'yandex', 249],\n",
    "['2018-01-02', 'market', 994],\n",
    "['2018-01-03', 'google', 1843],\n",
    "['2018-01-03', 'yandex', 1327],\n",
    "['2018-01-03', 'market', 1764],\n",
    "]"
   ]
  },
  {
   "cell_type": "code",
   "execution_count": 22,
   "metadata": {},
   "outputs": [],
   "source": [
    "stats = [ \n",
    "    ['2018-01-01', 'google', 25], \n",
    "    ['2018-01-01', 'yandex', 65], \n",
    "    ['2018-01-01', 'market', 89], \n",
    "    ['2018-01-02', 'google', 574], \n",
    "    ['2018-01-02', 'yandex', 249], \n",
    "    ['2018-01-02', 'market', 994], \n",
    "    ['2018-01-03', 'google', 1843], \n",
    "    ['2018-01-01', 'yandex', 1327],\n",
    "    ['2018-01-03', 'market', 1764], \n",
    "]"
   ]
  },
  {
   "cell_type": "markdown",
   "metadata": {},
   "source": [
    "#### Решение\n",
    "\n",
    "используем списочный цикл for чтобы пробежать по спискам внутри списка, на каждой итерации проверяем интересующее нас условие и если оно выполняется опускаемся на уровень ниже и проверяем второе условие, реализация в двух вариантах"
   ]
  },
  {
   "cell_type": "markdown",
   "metadata": {},
   "source": [
    "#### вариант 1\n",
    "\n",
    "используем списочный цикл for и оператор if который проверяет логическое условие"
   ]
  },
  {
   "cell_type": "code",
   "execution_count": 23,
   "metadata": {},
   "outputs": [
    {
     "name": "stdout",
     "output_type": "stream",
     "text": [
      "['2018-01-01', 'google', 25]\n",
      "CPU times: user 170 µs, sys: 73 µs, total: 243 µs\n",
      "Wall time: 188 µs\n"
     ]
    }
   ],
   "source": [
    "%%time\n",
    "for x in stats: \n",
    "    if x[0] == '2018-01-01': #проверяем соответствие первому условию задачи\n",
    "        for x1 in x: \n",
    "            if x1 == 'google': #проверяем соответствие второму условию задачи\n",
    "                print(x)\n",
    "            "
   ]
  },
  {
   "cell_type": "markdown",
   "metadata": {},
   "source": [
    "#### вариант 2 (основной вариант)\n",
    "\n",
    "логика как в вариант 1, но для краткости и скорости выполнения использую list comprehension и для большей универсальности добавил возможность ввода с клавиатуры интересующих парметров (по условию задачи это пара дата -компания)"
   ]
  },
  {
   "cell_type": "code",
   "execution_count": 24,
   "metadata": {},
   "outputs": [
    {
     "name": "stdout",
     "output_type": "stream",
     "text": [
      "2018-01-01\n",
      "google\n",
      "[['2018-01-01', 'google', 25]]\n",
      "CPU times: user 4.56 ms, sys: 4.1 ms, total: 8.66 ms\n",
      "Wall time: 14.3 s\n"
     ]
    }
   ],
   "source": [
    "%%time\n",
    "date = str(input())\n",
    "company = str(input())\n",
    "l = [x for x in stats if x[0] == date for x1 in x if x1 == company ]\n",
    "print(l)"
   ]
  },
  {
   "cell_type": "code",
   "execution_count": null,
   "metadata": {},
   "outputs": [],
   "source": []
  },
  {
   "cell_type": "markdown",
   "metadata": {},
   "source": [
    "### Бонусный вариант (делать его не обязательно)\n",
    "\n",
    "Рассмотрите обобщенный вариант этой задачи: имеется таблица из n столбцов. Первые n-1 столбцов - признаки (комбинации этих признаков в таблице уникальные). Последний столбец - значение. Вам необходимо по набору n-1 признаков найти соответствующую строчку в таблице и вернуть значение из правого столбца. Учтите, что исходная таблица может быть любого размера.\n",
    " \n",
    "Одно из применений задачи - объединение двух таблиц по n столбцов, одна из которых помещается в оперативной памяти. Например, 7 столбцов по 1 и 10 миллионов строк."
   ]
  },
  {
   "cell_type": "code",
   "execution_count": null,
   "metadata": {},
   "outputs": [],
   "source": []
  }
 ],
 "metadata": {
  "kernelspec": {
   "display_name": "Python 3",
   "language": "python",
   "name": "python3"
  },
  "language_info": {
   "codemirror_mode": {
    "name": "ipython",
    "version": 3
   },
   "file_extension": ".py",
   "mimetype": "text/x-python",
   "name": "python",
   "nbconvert_exporter": "python",
   "pygments_lexer": "ipython3",
   "version": "3.6.4"
  }
 },
 "nbformat": 4,
 "nbformat_minor": 2
}
