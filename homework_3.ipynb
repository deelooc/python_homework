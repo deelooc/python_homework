{
 "cells": [
  {
   "cell_type": "markdown",
   "metadata": {},
   "source": [
    "### Задание 1\n",
    "\n",
    "напишите функцию которая возвращает сумму элементов на диагонали 13 + 32 + 23 + 35"
   ]
  },
  {
   "cell_type": "code",
   "execution_count": 1,
   "metadata": {},
   "outputs": [],
   "source": [
    "data = [[13, 25, 23, 34], [45, 32, 44, 47], [12, 33, 23, 95], [13, 53, 34, 35]]"
   ]
  },
  {
   "cell_type": "markdown",
   "metadata": {},
   "source": [
    "#### Решение\n",
    "\n",
    "Логика решения соедующая, у нас есть список из 4 элементов, каждый элемент внутри этого списка сам является списком из четырех элементов.\n",
    "Тогда на каждой итерации нам надо определять номер элемента списка и внутри этого элемента (элемент это список из четырех чисел) выводить число равное номеру списка"
   ]
  },
  {
   "cell_type": "code",
   "execution_count": 2,
   "metadata": {},
   "outputs": [],
   "source": [
    "def find_numbers_in_list(magic):\n",
    "\n",
    "    \"\"\"\n",
    "    функция find_numbers_in_list принимает на вход список и возвращает \n",
    "    сумму элемнтов по диагонали списка, для этого мы на каждой итерации определяем номер элемента списка line\n",
    "    с помощью оператора len() и дальше мы находем во вложенном списке элемент соответствующий line на текущей \n",
    "    итерации и с помощью оператора append() добавляем его в новый список new_list и возвращаем сумму элементов\n",
    "    \"\"\"\n",
    "   \n",
    "    new_list = [] #создаем пустой список, в этот список мы будем записывать интересующие нас эл-ты списка\n",
    "    for line in range(len(magic)): #перебераем эл-ты списка (получаем нумерацию количества эл-тов списка)\n",
    "        new_list.append((magic[line][line])) #тут происходит магия, мы добавляем в новый список нужные эл-ты\n",
    "    \n",
    "    return sum(new_list) #возвращяем сумму эл-тов в новом списке\n",
    "    \n",
    "    \n",
    "    \n",
    "               "
   ]
  },
  {
   "cell_type": "code",
   "execution_count": 3,
   "metadata": {},
   "outputs": [
    {
     "data": {
      "text/plain": [
       "103"
      ]
     },
     "execution_count": 3,
     "metadata": {},
     "output_type": "execute_result"
    }
   ],
   "source": [
    "find_numbers_in_list(data)"
   ]
  },
  {
   "cell_type": "markdown",
   "metadata": {},
   "source": [
    "### Задание 2\n",
    "\n",
    "Дан список чисел, часть из которых имеют строковый тип или содержат буквы. Напишите функцию, которая возвращает сумму квадратов элементов, которые могут быть числами.\n",
    "data = [1, '5', 'abc', 20, '2']"
   ]
  },
  {
   "cell_type": "code",
   "execution_count": 4,
   "metadata": {},
   "outputs": [],
   "source": [
    "data = [1, '5', 'abc', 20, '2']"
   ]
  },
  {
   "cell_type": "markdown",
   "metadata": {},
   "source": [
    "#### Решение\n",
    "\n",
    "реализация получилась громоздкой, в цикле прохолим по каждому элементу и проверяем тип данных и является ли элемент числом и если да то возводим элемент в квадрат дабавляем в новый список и возвращаем сумму квадратов элементов"
   ]
  },
  {
   "cell_type": "code",
   "execution_count": 5,
   "metadata": {},
   "outputs": [],
   "source": [
    "def sum_of_elements(numbers):\n",
    "\n",
    "    \"\"\"\n",
    "    Функция sum_of_elements проверяет тип данных элементов в списке \n",
    "    и возвращяет сумму квадратов элементов списка которые могут быть числом\n",
    "    \"\"\"\n",
    "\n",
    "    list_num = [] #задаем список в который будем сохранять элементы которые могут быть числами\n",
    "\n",
    "    for x in numbers: #проходим по элементам списка\n",
    "        \n",
    "        if type(x) == int: #проверяем тип данных эл-та если тип int\n",
    "            list_num.append(x**2) #добавляем квадрат числа в список list_num\n",
    "        \n",
    "        elif type(x) == str: #если тип эл-та не int\n",
    "            if str.isnumeric(x): #проверяем похож ли эл-т на число\n",
    "                x = int(x) #если да то меняем тип эл-та на int\n",
    "                list_num.append(x**2) #добавляем квадрат числа в список digits_list \n",
    "            \n",
    "    return sum(list_num) #возвращаем сумму квадратов элементов списка"
   ]
  },
  {
   "cell_type": "code",
   "execution_count": 6,
   "metadata": {},
   "outputs": [
    {
     "data": {
      "text/plain": [
       "430"
      ]
     },
     "execution_count": 6,
     "metadata": {},
     "output_type": "execute_result"
    }
   ],
   "source": [
    "sum_of_elements(data)"
   ]
  },
  {
   "cell_type": "markdown",
   "metadata": {},
   "source": [
    "### Задание 3\n",
    "Напишите функцию, которая возвращает название валюты (поле 'Name') с максимальным значением курса с помощью сервиса https://www.cbr-xml-daily.ru/daily_json.js"
   ]
  },
  {
   "cell_type": "markdown",
   "metadata": {},
   "source": [
    "#### Решение \n",
    "\n",
    "решена только половина задания и то с вашей помощью, как выводить поле 'Name' интуитивно понятно но реализовать не получилось"
   ]
  },
  {
   "cell_type": "code",
   "execution_count": 7,
   "metadata": {},
   "outputs": [],
   "source": [
    "import requests"
   ]
  },
  {
   "cell_type": "code",
   "execution_count": 8,
   "metadata": {},
   "outputs": [],
   "source": [
    "data = 'https://www.cbr-xml-daily.ru/daily_json.js'"
   ]
  },
  {
   "cell_type": "code",
   "execution_count": 9,
   "metadata": {},
   "outputs": [],
   "source": [
    "def currency_with_max_value(data):\n",
    "    \"\"\"\n",
    "    на вход функция currency_with_max_value получает данные\n",
    "    о курсах валют и возвращает максимальный курс валюты\n",
    "    \"\"\"\n",
    "    \n",
    "    response = requests.get(data)\n",
    "    p = response.json()['Valute']\n",
    "  \n",
    "    values = []\n",
    "    \n",
    "    for key in p:\n",
    "        values.append(p[key]['Value'])\n",
    "        \n",
    "    return max(values)\n",
    "    \n",
    "        \n",
    "   \n",
    "        "
   ]
  },
  {
   "cell_type": "code",
   "execution_count": 10,
   "metadata": {},
   "outputs": [
    {
     "data": {
      "text/plain": [
       "97.7206"
      ]
     },
     "execution_count": 10,
     "metadata": {},
     "output_type": "execute_result"
    }
   ],
   "source": [
    "currency_with_max_value(data)"
   ]
  },
  {
   "cell_type": "markdown",
   "metadata": {},
   "source": [
    "### Задание 4\n",
    "Последнее упражнение с занятия\n",
    "1. Добавьте в класс еще один формат, который возвращает название валюты (например, 'Евро').\n",
    " \n",
    "2. Добавьте в класс параметр diff (со значениями True или False), который в случае значения True в методах eur и usd будет возвращать не курс валюты, а изменение по сравнению в прошлым значением."
   ]
  },
  {
   "cell_type": "markdown",
   "metadata": {},
   "source": [
    "#### Решение \n",
    "\n",
    "1. Добавил метод name_of_currency который возвращает название валюты. На вход метод принимает сокращенное название валюты и возвращает полное название.\n",
    "2. Добавил в конструктор __init__ параметр diff который если равен True возвращает изменение по сравнению в прошлым значением"
   ]
  },
  {
   "cell_type": "code",
   "execution_count": 11,
   "metadata": {},
   "outputs": [],
   "source": [
    "import requests"
   ]
  },
  {
   "cell_type": "code",
   "execution_count": 12,
   "metadata": {},
   "outputs": [],
   "source": [
    "class Rates:\n",
    "\n",
    "    def __init__(self, format, diff): #Добавьте в класс параметр diff\n",
    "        self.format = format\n",
    "        self.diff = diff \n",
    "     \n",
    "    def result(self):\n",
    "        print(self.format)\n",
    "        \n",
    "    def exchange_rates(self):\n",
    "        \n",
    "        r = requests.get('https://www.cbr-xml-daily.ru/daily_json.js')\n",
    "        return r.json()['Valute']\n",
    "        \n",
    "    def make_format(self, currency):\n",
    "        response = self.exchange_rates()\n",
    "        \n",
    "        if currency in response: \n",
    "            \n",
    "            if self.diff: #проверяем условие, если True то возвращаем в методах eur и usd разницу Value - Previous\n",
    "                return response[currency]['Value']-response[currency]['Previous']\n",
    "            \n",
    "            else:\n",
    "                if self.format == 'full':\n",
    "                    return response[currency]\n",
    "            \n",
    "                if self.format == 'value':\n",
    "                    return response[currency]['Value']\n",
    "            \n",
    "        \n",
    "        return 'Error'\n",
    "    \n",
    "     \n",
    "    def eur(self):\n",
    "        \"\"\"Возвращает курс евро на сегодня в формате self.format\"\"\"\n",
    "        return self.make_format('EUR')\n",
    "    \n",
    "    def usd(self):\n",
    "        \"\"\"Возвращает курс доллара на сегодня в формате self.format\"\"\"\n",
    "        return self.make_format('USD')\n",
    "     \n",
    "    \n",
    "    \n",
    "    def name_of_currency(self, currency):\n",
    "        \"\"\"Возвращает название валюты self.format\"\"\"\n",
    "    \n",
    "        response = self.exchange_rates()\n",
    "        \n",
    "        if currency in response:\n",
    "            return response[currency]['Name']"
   ]
  },
  {
   "cell_type": "code",
   "execution_count": 13,
   "metadata": {},
   "outputs": [],
   "source": [
    "#проверяем как работает параметр diff\n",
    "rt = Rates('value', True)"
   ]
  },
  {
   "cell_type": "code",
   "execution_count": 14,
   "metadata": {},
   "outputs": [
    {
     "data": {
      "text/plain": [
       "'Австралийский доллар'"
      ]
     },
     "execution_count": 14,
     "metadata": {},
     "output_type": "execute_result"
    }
   ],
   "source": [
    "#проверяем как работает метод name_of_currency\n",
    "rt.name_of_currency('AUD')"
   ]
  },
  {
   "cell_type": "code",
   "execution_count": 15,
   "metadata": {},
   "outputs": [
    {
     "data": {
      "text/plain": [
       "0.10590000000000543"
      ]
     },
     "execution_count": 15,
     "metadata": {},
     "output_type": "execute_result"
    }
   ],
   "source": [
    "#проверяем как работает параметр diff\n",
    "rt.usd()"
   ]
  },
  {
   "cell_type": "markdown",
   "metadata": {},
   "source": [
    "### Задание 5\n",
    "\n",
    "Напишите функцию, возвращающую сумму первых n чисел Фибоначчи"
   ]
  },
  {
   "cell_type": "markdown",
   "metadata": {},
   "source": [
    "#### Решение\n",
    "\n",
    "через кортеж задаем значение a и b далее создаем пустой список куда будем записывать получаемые числа Фибоначчи и возвращаем результат"
   ]
  },
  {
   "cell_type": "code",
   "execution_count": 16,
   "metadata": {},
   "outputs": [],
   "source": [
    "def fib(N):\n",
    "    \"\"\"\n",
    "    функция fib на воде принимает значение N равное числу Фибоначчи\n",
    "    и возвращает сумму n первых чисел\n",
    "    \"\"\"\n",
    "    \n",
    "    a,b = 0,1 \n",
    "    new_list = []\n",
    "   \n",
    "    for i in range(0,N):\n",
    "        a,b = b, a + b\n",
    "        new_list.append(a)\n",
    "    \n",
    "    return f'Сумма {N} чисел ряда Фибоначчи равна {sum(new_list)}'"
   ]
  },
  {
   "cell_type": "code",
   "execution_count": 18,
   "metadata": {},
   "outputs": [
    {
     "name": "stdout",
     "output_type": "stream",
     "text": [
      "56\n"
     ]
    },
    {
     "data": {
      "text/plain": [
       "'Сумма 56 чисел ряда Фибоначчи равна 591286729878'"
      ]
     },
     "execution_count": 18,
     "metadata": {},
     "output_type": "execute_result"
    }
   ],
   "source": [
    "fib(int(input())) #добавил int(input()) это позволит реализовать самые смелые значения N"
   ]
  },
  {
   "cell_type": "markdown",
   "metadata": {},
   "source": [
    "### Задание 6\n",
    "Напишите функцию, преобразующую произвольный список вида ['2018-01-01', 'yandex', 'cpc', 100] в словарь {'2018-01-01': {'yandex': {'cpc': 100}}}\n"
   ]
  },
  {
   "cell_type": "markdown",
   "metadata": {},
   "source": [
    "#### Решение\n",
    "\n",
    "получилось решить очень изящно, данное решение работает только со списками такого рода ['2018-01-01', 'yandex', 'cpc', 100] код очень красивый на мой вкус"
   ]
  },
  {
   "cell_type": "code",
   "execution_count": 19,
   "metadata": {},
   "outputs": [],
   "source": [
    "stats = ['2018-01-01', 'yandex', 'cpc', 100]"
   ]
  },
  {
   "cell_type": "code",
   "execution_count": 20,
   "metadata": {},
   "outputs": [],
   "source": [
    "def return_strange_dict(exmpl): \n",
    "    \"\"\"\n",
    "    функция return_strange_dict принимает на вход список из четырех эл-тов\n",
    "    и возвращает словарь ключ внутри которого имеет значение вложенного словаря\n",
    "    \"\"\"\n",
    "    return {exmpl[i]: {exmpl[i+1]: {exmpl[i+2]: exmpl[i+3]}} for i in range(0, len(exmpl), 5)}"
   ]
  },
  {
   "cell_type": "code",
   "execution_count": 21,
   "metadata": {},
   "outputs": [
    {
     "data": {
      "text/plain": [
       "{'2018-01-01': {'yandex': {'cpc': 100}}}"
      ]
     },
     "execution_count": 21,
     "metadata": {},
     "output_type": "execute_result"
    }
   ],
   "source": [
    "return_strange_dict(stats)"
   ]
  },
  {
   "cell_type": "code",
   "execution_count": null,
   "metadata": {},
   "outputs": [],
   "source": []
  }
 ],
 "metadata": {
  "kernelspec": {
   "display_name": "Python 3",
   "language": "python",
   "name": "python3"
  },
  "language_info": {
   "codemirror_mode": {
    "name": "ipython",
    "version": 3
   },
   "file_extension": ".py",
   "mimetype": "text/x-python",
   "name": "python",
   "nbconvert_exporter": "python",
   "pygments_lexer": "ipython3",
   "version": "3.6.4"
  }
 },
 "nbformat": 4,
 "nbformat_minor": 2
}
