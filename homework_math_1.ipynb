{
 "cells": [
  {
   "cell_type": "markdown",
   "metadata": {},
   "source": [
    "### Задание 1\n",
    "\n",
    "Дан массив Z = [1,2,3,4,5,6,7,8,9,10,11,12,13,14]\n",
    "\n",
    "требуется преобразовать его в массив вида R = [[1,2,3,4],[2,3,4,5],[3,4,5,6],.....,[11,12,13,14]]"
   ]
  },
  {
   "cell_type": "code",
   "execution_count": 1,
   "metadata": {},
   "outputs": [],
   "source": [
    "import numpy as np\n",
    "from numpy.lib import stride_tricks\n",
    "from scipy import optimize\n",
    "from scipy.optimize import golden, rosen_der"
   ]
  },
  {
   "cell_type": "code",
   "execution_count": 2,
   "metadata": {},
   "outputs": [],
   "source": [
    "#задаем массив\n",
    "Z = [1,2,3,4,5,6,7,8,9,10,11,12,13,14]"
   ]
  },
  {
   "cell_type": "code",
   "execution_count": 3,
   "metadata": {},
   "outputs": [],
   "source": [
    "#для решения задачи нам потребуются переменные которые мы будем передавать как аргументы в функцию transform_array\n",
    "a = Z[0]\n",
    "b = len(Z)"
   ]
  },
  {
   "cell_type": "code",
   "execution_count": 4,
   "metadata": {},
   "outputs": [],
   "source": [
    "def transform_array(a, size_of_column):\n",
    "    \"\"\"\n",
    "    Функция transform_array принимает на вход одномерный массив\n",
    "    Z и возвращает многомерный массив \n",
    "    \"\"\"\n",
    "    shape = (a.size - size_of_column + 1, size_of_column) \n",
    "    strides = (a.itemsize, a.itemsize)\n",
    "    return stride_tricks.as_strided(a, shape= shape, strides= strides, writeable= False)"
   ]
  },
  {
   "cell_type": "code",
   "execution_count": 5,
   "metadata": {},
   "outputs": [
    {
     "name": "stdout",
     "output_type": "stream",
     "text": [
      "CPU times: user 95 µs, sys: 28 µs, total: 123 µs\n",
      "Wall time: 120 µs\n"
     ]
    }
   ],
   "source": [
    "%%time\n",
    "R = transform_array(np.arange(a, b + 1), 4)"
   ]
  },
  {
   "cell_type": "code",
   "execution_count": 6,
   "metadata": {},
   "outputs": [
    {
     "data": {
      "text/plain": [
       "array([[ 1,  2,  3,  4],\n",
       "       [ 2,  3,  4,  5],\n",
       "       [ 3,  4,  5,  6],\n",
       "       [ 4,  5,  6,  7],\n",
       "       [ 5,  6,  7,  8],\n",
       "       [ 6,  7,  8,  9],\n",
       "       [ 7,  8,  9, 10],\n",
       "       [ 8,  9, 10, 11],\n",
       "       [ 9, 10, 11, 12],\n",
       "       [10, 11, 12, 13],\n",
       "       [11, 12, 13, 14]])"
      ]
     },
     "execution_count": 6,
     "metadata": {},
     "output_type": "execute_result"
    }
   ],
   "source": [
    "R"
   ]
  },
  {
   "cell_type": "markdown",
   "metadata": {},
   "source": [
    "### Задание 2\n",
    "\n",
    "Дана произвольная матрица A. Рассчитать ранг матрицы A."
   ]
  },
  {
   "cell_type": "code",
   "execution_count": 7,
   "metadata": {},
   "outputs": [
    {
     "data": {
      "text/plain": [
       "array([[1.78599544, 9.932727  ],\n",
       "       [2.29956082, 9.45734437]])"
      ]
     },
     "execution_count": 7,
     "metadata": {},
     "output_type": "execute_result"
    }
   ],
   "source": [
    "C = np.random.uniform(0, 10, (2, 2))\n",
    "C"
   ]
  },
  {
   "cell_type": "code",
   "execution_count": 8,
   "metadata": {},
   "outputs": [],
   "source": [
    "def matrix_rank_definer(A):\n",
    "    \"\"\"\n",
    "    Функция matrix_rank_definer возвращает ранг матрицы\n",
    "    \"\"\"\n",
    "    return np.linalg.matrix_rank(A)"
   ]
  },
  {
   "cell_type": "code",
   "execution_count": 9,
   "metadata": {},
   "outputs": [
    {
     "data": {
      "text/plain": [
       "2"
      ]
     },
     "execution_count": 9,
     "metadata": {},
     "output_type": "execute_result"
    }
   ],
   "source": [
    "matrix_rank_definer(C)"
   ]
  },
  {
   "cell_type": "markdown",
   "metadata": {},
   "source": [
    "### Задание 3 \n",
    "\n",
    "\n",
    "Найти лучший алгоритм для решения следующей задачи:\n",
    "min (x1x4(x1+x2+x3)+x3).\n",
    "\n",
    "Условия:\n",
    "\n",
    "x1x2x3x4≥30\n",
    "\n",
    "x1^2+x2^2+x3^2+x4^2=60\n",
    "\n",
    "2≤x1,x2,x3,x4≤6\n",
    "\n",
    "Начальное приближение:\n",
    "x=(1,5,5,1)"
   ]
  },
  {
   "cell_type": "code",
   "execution_count": 10,
   "metadata": {},
   "outputs": [],
   "source": [
    "#задаю функцию которая возвращает нашу задачу (x1x4(x1+x2+x3)+x3)\n",
    "\n",
    "fun = lambda x: (x[0] * x[3] * (x[0] + x[1] + x[2]) + x[2])"
   ]
  },
  {
   "cell_type": "code",
   "execution_count": 11,
   "metadata": {},
   "outputs": [],
   "source": [
    "#задаем условия задачи\n",
    "\n",
    "#cons возвращает первое условие x1x2x3x4≥30 и второе условие x1^2+x2^2+x3^2+x4^2=60\n",
    "cons = ({'type': 'ineq', 'fun': lambda x: x[0] * x[1] * x[2] * x[3] >= 30},\n",
    "       {'type': 'eq', 'fun': lambda x: x[0]**2 + x[1]**2 + x[2]**2 + x[3]**2 == 60})\n",
    "\n",
    "#bnds возврращает следующие условие 2≤x1,x2,x3,x4≤6\n",
    "bnds = ((2,6),(2,6),(2,6),(2,6))"
   ]
  },
  {
   "cell_type": "code",
   "execution_count": 12,
   "metadata": {},
   "outputs": [],
   "source": [
    "#используем алгоритм оптимизации 'TNC' он принимает наши диапазоны bnds но не хочет принимать cons\n",
    "#оптимизируем без учета cons\n",
    "res_0 = optimize.minimize(fun, (1,5,5,1) , method= 'TNC',   bounds= bnds)"
   ]
  },
  {
   "cell_type": "code",
   "execution_count": 13,
   "metadata": {},
   "outputs": [
    {
     "data": {
      "text/plain": [
       "array([2., 2., 2., 2.])"
      ]
     },
     "execution_count": 13,
     "metadata": {},
     "output_type": "execute_result"
    }
   ],
   "source": [
    "#алгоритм отработал мы получили минимумы\n",
    "res_TNC = res_0.x\n",
    "res_TNC"
   ]
  },
  {
   "cell_type": "code",
   "execution_count": 14,
   "metadata": {},
   "outputs": [],
   "source": [
    "#используем алгоритм оптимизации 'L-BFGS-B' он принимает наши диапазоны bnds но не хочет принимать cons\n",
    "#оптимизируем без учета cons\n",
    "res_1 = optimize.minimize(fun, (1,5,5,1) , method= 'L-BFGS-B',   bounds= bnds)"
   ]
  },
  {
   "cell_type": "code",
   "execution_count": 15,
   "metadata": {},
   "outputs": [
    {
     "data": {
      "text/plain": [
       "array([2., 2., 2., 2.])"
      ]
     },
     "execution_count": 15,
     "metadata": {},
     "output_type": "execute_result"
    }
   ],
   "source": [
    "#алгоритм отработал мы получили минимумы при этом что интересно мы получили 100% содимость с результатом 'TNC'\n",
    "res_L_BFGS_B = res_1.x\n",
    "res_L_BFGS_B"
   ]
  },
  {
   "cell_type": "code",
   "execution_count": 16,
   "metadata": {},
   "outputs": [],
   "source": [
    "#используем алгоритм оптимизации 'COBYLA' он не принимает ни один из начальных условий задачи\n",
    "res_COBYLA = optimize.minimize(fun, (1,5,5,1) , method= 'COBYLA')"
   ]
  },
  {
   "cell_type": "code",
   "execution_count": 17,
   "metadata": {},
   "outputs": [
    {
     "data": {
      "text/plain": [
       "array([ 305.09588998,   76.46005944,  151.84919019, -256.66915106])"
      ]
     },
     "execution_count": 17,
     "metadata": {},
     "output_type": "execute_result"
    }
   ],
   "source": [
    "x_min_cobyla = res_COBYLA.x\n",
    "x_min_cobyla"
   ]
  },
  {
   "cell_type": "code",
   "execution_count": 18,
   "metadata": {},
   "outputs": [],
   "source": [
    "#используем алгоритм оптимизации 'Nelder-Mead' он не принимает ни один из начальных условий задачи\n",
    "res_Nelder_Mead = optimize.minimize(fun, (1,5,5,1) , method= 'Nelder-Mead')"
   ]
  },
  {
   "cell_type": "code",
   "execution_count": 19,
   "metadata": {},
   "outputs": [
    {
     "data": {
      "text/plain": [
       "array([ 1.45959526e+48,  9.74919738e+49, -3.83111448e+49, -3.75034058e+49])"
      ]
     },
     "execution_count": 19,
     "metadata": {},
     "output_type": "execute_result"
    }
   ],
   "source": [
    "x_min_Nelder_Mead = res_Nelder_Mead.x\n",
    "x_min_Nelder_Mead"
   ]
  },
  {
   "cell_type": "code",
   "execution_count": 20,
   "metadata": {},
   "outputs": [],
   "source": [
    "#используем алгоритм оптимизации 'CG' он не принимает ни один из начальных условий задачи\n",
    "res_CG = optimize.minimize(fun, (1,5,5,1) , method= 'CG')"
   ]
  },
  {
   "cell_type": "code",
   "execution_count": 248,
   "metadata": {},
   "outputs": [
    {
     "data": {
      "text/plain": [
       "array([ 1.45959526e+48,  9.74919738e+49, -3.83111448e+49, -3.75034058e+49])"
      ]
     },
     "execution_count": 248,
     "metadata": {},
     "output_type": "execute_result"
    }
   ],
   "source": [
    "x_min_CG = res_CG.x\n",
    "x_min_Nelder_Mead"
   ]
  }
 ],
 "metadata": {
  "kernelspec": {
   "display_name": "Python 3",
   "language": "python",
   "name": "python3"
  },
  "language_info": {
   "codemirror_mode": {
    "name": "ipython",
    "version": 3
   },
   "file_extension": ".py",
   "mimetype": "text/x-python",
   "name": "python",
   "nbconvert_exporter": "python",
   "pygments_lexer": "ipython3",
   "version": "3.6.4"
  }
 },
 "nbformat": 4,
 "nbformat_minor": 2
}
